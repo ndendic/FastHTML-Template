{
 "cells": [
  {
   "cell_type": "markdown",
   "metadata": {},
   "source": [
    "# FastHTML Testing Notebook\n",
    "\n",
    "## Overview\n",
    "This notebook is for testing FastHTML components and routes using Starlette's TestClient."
   ]
  },
  {
   "cell_type": "code",
   "execution_count": 1,
   "metadata": {},
   "outputs": [],
   "source": [
    "# Setup FastHTML testing environment\n",
    "from fasthtml.common import *\n",
    "from starlette.testclient import TestClient\n",
    "\n",
    "# Create a test app instance\n",
    "app, rt = fast_app(default_hdrs=False)  # Remove default headers for cleaner test output\n",
    "\n",
    "# Setup test client\n",
    "client = TestClient(app)"
   ]
  },
  {
   "cell_type": "code",
   "execution_count": 8,
   "metadata": {},
   "outputs": [
    {
     "name": "stdout",
     "output_type": "stream",
     "text": [
      "Testing route '/':\n",
      "\n"
     ]
    },
    {
     "data": {
      "text/html": [
       " &lt;!doctype html&gt;\n",
       " &lt;html&gt;\n",
       "   &lt;head&gt;\n",
       "     &lt;title&gt;FastHTML Test&lt;/title&gt;\n",
       "&lt;script&gt;\n",
       "    function sendmsg() {\n",
       "        window.parent.postMessage({height: document.documentElement.offsetHeight}, &amp;#x27;*&amp;#x27;);\n",
       "    }\n",
       "    window.onload = function() {\n",
       "        sendmsg();\n",
       "        document.body.addEventListener(&amp;#x27;htmx:afterSettle&amp;#x27;,    sendmsg);\n",
       "        document.body.addEventListener(&amp;#x27;htmx:wsAfterMessage&amp;#x27;, sendmsg);\n",
       "    };&lt;/script&gt;   &lt;/head&gt;\n",
       "   &lt;body&gt;\n",
       "&lt;main class=&quot;container&quot;&gt;       &lt;h1&gt;FastHTML Test&lt;/h1&gt;\n",
       "&lt;main class=&quot;container&quot;&gt;         &lt;h1&gt;Welcome to FastHTML Testing&lt;/h1&gt;\n",
       "         &lt;p&gt;This notebook demonstrates FastHTML component testing&lt;/p&gt;\n",
       "         &lt;div&gt;\n",
       "&lt;button class=&quot;primary&quot;&gt;Test Button&lt;/button&gt;           &lt;p&gt;Test paragraph&lt;/p&gt;\n",
       "         &lt;/div&gt;\n",
       "&lt;/main&gt;&lt;/main&gt;   &lt;/body&gt;\n",
       " &lt;/html&gt;\n"
      ],
      "text/plain": [
       "<IPython.core.display.HTML object>"
      ]
     },
     "execution_count": 8,
     "metadata": {},
     "output_type": "execute_result"
    }
   ],
   "source": [
    "# Example test route\n",
    "@rt(\"/\")\n",
    "def get():\n",
    "    return Titled(\"FastHTML Test\", \n",
    "        Container(\n",
    "            H1(\"Welcome to FastHTML Testing\"),\n",
    "            P(\"This notebook demonstrates FastHTML component testing\"),\n",
    "            Div(\n",
    "                Button(\"Test Button\", cls=\"primary\"),\n",
    "                P(\"Test paragraph\")\n",
    "            )\n",
    "        ))\n",
    "\n",
    "# Test the route\n",
    "response = client.get(\"/\")\n",
    "print(\"Testing route '/':\\n\")\n",
    "show(response)"
   ]
  },
  {
   "cell_type": "code",
   "execution_count": 7,
   "metadata": {},
   "outputs": [
    {
     "name": "stdout",
     "output_type": "stream",
     "text": [
      "\n",
      "Testing individual component:\n",
      "\n"
     ]
    },
    {
     "data": {
      "text/html": [
       "<main class=\"container\">  <h1>Component Test</h1>\n",
       "  <p>Testing individual components</p>\n",
       "<button class=\"primary\">Click me</button></main>"
      ],
      "text/plain": [
       "<IPython.core.display.HTML object>"
      ]
     },
     "execution_count": 7,
     "metadata": {},
     "output_type": "execute_result"
    }
   ],
   "source": [
    "# Example component test\n",
    "test_component = Container(\n",
    "    H1(\"Component Test\"),\n",
    "    P(\"Testing individual components\"),\n",
    "    Button(\"Click me\", cls=\"primary\")\n",
    ")\n",
    "\n",
    "print(\"\\nTesting individual component:\\n\")\n",
    "show(to_xml(test_component))"
   ]
  },
  {
   "cell_type": "code",
   "execution_count": null,
   "metadata": {},
   "outputs": [],
   "source": []
  }
 ],
 "metadata": {
  "kernelspec": {
   "display_name": "Python 3 (ipykernel)",
   "language": "python",
   "name": "python3"
  },
  "language_info": {
   "codemirror_mode": {
    "name": "ipython",
    "version": 3
   },
   "file_extension": ".py",
   "mimetype": "text/x-python",
   "name": "python",
   "nbconvert_exporter": "python",
   "pygments_lexer": "ipython3",
   "version": "3.12.7"
  }
 },
 "nbformat": 4,
 "nbformat_minor": 4
}
